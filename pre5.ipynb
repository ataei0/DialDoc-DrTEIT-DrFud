{
  "nbformat": 4,
  "nbformat_minor": 0,
  "metadata": {
    "colab": {
      "provenance": [],
      "authorship_tag": "ABX9TyN+vuOdNsemtIpWmHqFXf/6",
      "include_colab_link": true
    },
    "kernelspec": {
      "name": "python3",
      "display_name": "Python 3"
    },
    "language_info": {
      "name": "python"
    }
  },
  "cells": [
    {
      "cell_type": "markdown",
      "metadata": {
        "id": "view-in-github",
        "colab_type": "text"
      },
      "source": [
        "<a href=\"https://colab.research.google.com/github/ataei0/DANA/blob/master/pre5.ipynb\" target=\"_parent\"><img src=\"https://colab.research.google.com/assets/colab-badge.svg\" alt=\"Open In Colab\"/></a>"
      ]
    },
    {
      "cell_type": "code",
      "execution_count": 1,
      "metadata": {
        "colab": {
          "base_uri": "https://localhost:8080/"
        },
        "id": "cLGyZ3KKti7V",
        "outputId": "6557b87b-17c3-4abe-f336-1bddf214ac3e"
      },
      "outputs": [
        {
          "output_type": "stream",
          "name": "stdout",
          "text": [
            "Mounted at /content/drive\n"
          ]
        }
      ],
      "source": [
        "\n",
        "from google.colab import drive\n",
        "drive.mount('/content/drive')"
      ]
    },
    {
      "cell_type": "code",
      "source": [
        "from numpy import load\n",
        "\n",
        "Data = load('/content/drive/MyDrive/Matrix Data/sparse_matrix.npz')\n",
        "lst = Data.files\n",
        "for item in lst:\n",
        "    print(item)\n",
        "    print(Data[item])"
      ],
      "metadata": {
        "colab": {
          "base_uri": "https://localhost:8080/"
        },
        "id": "BkWjHUdKtu-k",
        "outputId": "3696a6f4-beb3-447c-d781-fbba13959a61"
      },
      "execution_count": 7,
      "outputs": [
        {
          "output_type": "stream",
          "name": "stdout",
          "text": [
            "indices\n",
            "[ 11103  31853  31854 ... 276253 368921 384959]\n",
            "indptr\n",
            "[        0       192       228 ... 113376415 113376545 113376558]\n",
            "format\n",
            "b'csr'\n",
            "shape\n",
            "[933095 398351]\n",
            "data\n",
            "[ 1.75086936 12.19738324 12.20355765 ... 18.7720261  34.64588635\n",
            " 21.07869619]\n"
          ]
        }
      ]
    },
    {
      "cell_type": "code",
      "source": [
        "\n",
        "from scipy import sparse\n",
        "import numpy as np\n",
        "\n",
        "temp_data = np.load('/content/drive/MyDrive/Matrix Data/sparse_matrix.npz')\n",
        "M_data = sparse.csr_matrix((temp_data['data'], temp_data['indices'], temp_data['indptr']), shape = temp_data['shape']) "
      ],
      "metadata": {
        "id": "lYaPenFYt7L6"
      },
      "execution_count": 8,
      "outputs": []
    },
    {
      "cell_type": "code",
      "source": [
        "!pip install sklearn"
      ],
      "metadata": {
        "colab": {
          "base_uri": "https://localhost:8080/"
        },
        "id": "7iKruxCUuEyo",
        "outputId": "4d8e16d5-02e0-4aeb-e11d-d1f39a0e15bf"
      },
      "execution_count": 3,
      "outputs": [
        {
          "output_type": "stream",
          "name": "stdout",
          "text": [
            "Looking in indexes: https://pypi.org/simple, https://us-python.pkg.dev/colab-wheels/public/simple/\n",
            "Collecting sklearn\n",
            "  Downloading sklearn-0.0.post1.tar.gz (3.6 kB)\n",
            "  Preparing metadata (setup.py) ... \u001b[?25l\u001b[?25hdone\n",
            "Building wheels for collected packages: sklearn\n",
            "  Building wheel for sklearn (setup.py) ... \u001b[?25l\u001b[?25hdone\n",
            "  Created wheel for sklearn: filename=sklearn-0.0.post1-py3-none-any.whl size=2344 sha256=d9711b722e0bfdd8d6d65ca6809fd911ffbf57afaf02c36f74b767a68f76d828\n",
            "  Stored in directory: /root/.cache/pip/wheels/14/25/f7/1cc0956978ae479e75140219088deb7a36f60459df242b1a72\n",
            "Successfully built sklearn\n",
            "Installing collected packages: sklearn\n",
            "Successfully installed sklearn-0.0.post1\n"
          ]
        }
      ]
    },
    {
      "cell_type": "code",
      "source": [
        "import scipy.sparse\n",
        "from sklearn import *\n",
        "from sklearn.preprocessing import normalize\n",
        "#normalizing data over columns:\n",
        "M_data_normalized_C = normalize(M_data, norm='l1', axis=0)\n",
        "sparse.save_npz(\"data_normalized_C.npz\", scipy.sparse.csr_matrix(M_data_normalized_C))\n",
        "#normalizing data over rows:\n",
        "M_data_normalized_R = normalize(M_data, norm='l1', axis=1)"
      ],
      "metadata": {
        "id": "5Jw7GrSJuISG"
      },
      "execution_count": 10,
      "outputs": []
    },
    {
      "cell_type": "code",
      "source": [
        "\n",
        "from scipy.sparse import csr_matrix\n",
        "print(csr_matrix(M_data_normalized_C.getcol(76454)))"
      ],
      "metadata": {
        "colab": {
          "base_uri": "https://localhost:8080/"
        },
        "id": "kVqO8P_YuN5C",
        "outputId": "13d04715-ac60-4c42-8cd0-042a5322a755"
      },
      "execution_count": null,
      "outputs": [
        {
          "output_type": "stream",
          "name": "stdout",
          "text": [
            "  (14934, 0)\t0.03515021992374439\n",
            "  (70153, 0)\t0.021820576828983265\n",
            "  (87521, 0)\t0.010194105201996652\n",
            "  (178045, 0)\t0.10129099121922339\n",
            "  (191205, 0)\t0.003980258091772798\n",
            "  (199286, 0)\t0.018018729166719993\n",
            "  (272219, 0)\t0.020423018309388842\n",
            "  (322829, 0)\t0.33682884892381654\n",
            "  (337739, 0)\t0.04646005398316955\n",
            "  (347354, 0)\t0.012683272279241707\n",
            "  (474496, 0)\t0.3181580240625511\n",
            "  (475116, 0)\t0.007183232565226506\n",
            "  (594389, 0)\t0.04254290903916482\n",
            "  (724324, 0)\t0.014715637516529496\n",
            "  (845638, 0)\t0.010550122888470913\n"
          ]
        }
      ]
    },
    {
      "cell_type": "code",
      "source": [
        "#normalizing over both columns and rows:\n",
        "temp = M_data_normalized_C.multiply(M_data_normalized_R)\n",
        "M_data_normalized_RC = temp.sqrt()\n",
        "sparse.save_npz(\"data_normalized_RC.npz\", scipy.sparse.csr_matrix(M_data_normalized_RC))"
      ],
      "metadata": {
        "id": "-HMc_8jhuShv"
      },
      "execution_count": 12,
      "outputs": []
    },
    {
      "cell_type": "code",
      "source": [
        "import sklearn.metrics\n",
        "\n",
        "data = M_data_normalized_RC.transpose()\n",
        "ind_col = [i for i in range(20000)]  #398351 \n",
        "data0 = data[ind_col,:]\n",
        "res = sklearn.metrics.pairwise_distances(data0, data0, metric = 'euclidean')\n",
        "res\n",
        "# taken time for 10000 : 2s\n",
        "# taken time for 20000 : 6s\n",
        "# RAM limitations for  30k "
      ],
      "metadata": {
        "id": "qKMaptLOunci"
      },
      "execution_count": null,
      "outputs": []
    },
    {
      "cell_type": "code",
      "source": [
        "from sklearn import random_projection\n",
        "from sklearn.random_projection import johnson_lindenstrauss_min_dim\n",
        "#min required rows\n",
        "min_dim = johnson_lindenstrauss_min_dim(n_samples=398351, eps=0.08)\n",
        "min_dim"
      ],
      "metadata": {
        "id": "90BWs7PzDM87",
        "outputId": "f3f0663e-9f6e-4ecf-9168-2672ec5747f6",
        "colab": {
          "base_uri": "https://localhost:8080/"
        }
      },
      "execution_count": 3,
      "outputs": [
        {
          "output_type": "execute_result",
          "data": {
            "text/plain": [
              "17026"
            ]
          },
          "metadata": {},
          "execution_count": 3
        }
      ]
    },
    {
      "cell_type": "code",
      "source": [
        "data = M_data_normalized_RC.transpose()\n",
        "transformer = random_projection.SparseRandomProjection(n_components=11052)\n",
        "data_shrinked = transformer.fit_transform(data)\n",
        "data_shrinked.shape"
      ],
      "metadata": {
        "id": "oG2UuwRIEPl1",
        "outputId": "5284f71a-76ee-4fae-9361-8c8637aff93f",
        "colab": {
          "base_uri": "https://localhost:8080/"
        }
      },
      "execution_count": null,
      "outputs": [
        {
          "output_type": "execute_result",
          "data": {
            "text/plain": [
              "(398351, 11052)"
            ]
          },
          "metadata": {},
          "execution_count": 4
        }
      ]
    },
    {
      "cell_type": "code",
      "source": [
        "sparse.save_npz(\"shrinled.npz\", data_shrinked)"
      ],
      "metadata": {
        "id": "S2Zc8uSXIwea"
      },
      "execution_count": null,
      "outputs": []
    },
    {
      "cell_type": "code",
      "source": [
        "from numpy import load\n",
        "\n",
        "Data = load('/content/drive/MyDrive/shrinled.npz')\n",
        "lst = Data.files\n",
        "for item in lst:\n",
        "    print(item)\n",
        "    print(Data[item])"
      ],
      "metadata": {
        "id": "5X799Gt2KelB",
        "outputId": "323d68a1-6724-4417-88c3-c1750d83c3da",
        "colab": {
          "base_uri": "https://localhost:8080/"
        }
      },
      "execution_count": null,
      "outputs": [
        {
          "output_type": "stream",
          "name": "stdout",
          "text": [
            "indices\n",
            "[9735 9066 8755 ... 5365 4392 3534]\n",
            "indptr\n",
            "[        0      1649     12701 ... 321183640 321183647 321183654]\n",
            "format\n",
            "b'csr'\n",
            "shape\n",
            "[398351  11052]\n",
            "data\n",
            "[-0.00166834 -0.00166834 -0.00166834 ...  0.05626455  0.05626455\n",
            "  0.05626455]\n"
          ]
        }
      ]
    },
    {
      "cell_type": "code",
      "source": [
        "from scipy import sparse\n",
        "import numpy as np\n",
        "\n",
        "temp_data = np.load('/content/drive/MyDrive/shrinled.npz')\n",
        "S_data = sparse.csr_matrix((temp_data['data'], temp_data['indices'], temp_data['indptr']), shape = temp_data['shape']) "
      ],
      "metadata": {
        "id": "WBVybdLkLbxx"
      },
      "execution_count": 3,
      "outputs": []
    },
    {
      "cell_type": "code",
      "source": [
        "from scipy.sparse import csr_matrix\n",
        "print(csr_matrix(S_data.getrow(10000)))"
      ],
      "metadata": {
        "id": "qNZErbjuLvM3",
        "outputId": "abebb682-b315-4abc-f4f3-b81aaf47a520",
        "colab": {
          "base_uri": "https://localhost:8080/"
        }
      },
      "execution_count": null,
      "outputs": [
        {
          "output_type": "stream",
          "name": "stdout",
          "text": [
            "  (0, 10854)\t-0.0013073145454501958\n",
            "  (0, 9742)\t0.0013073145454501958\n",
            "  (0, 9611)\t-0.0013073145454501958\n",
            "  (0, 8938)\t-0.0013073145454501958\n",
            "  (0, 8929)\t0.0013073145454501958\n",
            "  (0, 8671)\t-0.0013073145454501958\n",
            "  (0, 7562)\t0.0013073145454501958\n",
            "  (0, 7394)\t0.0013073145454501958\n",
            "  (0, 7381)\t-0.0013073145454501958\n",
            "  (0, 5751)\t-0.0013073145454501958\n",
            "  (0, 5091)\t0.0013073145454501958\n",
            "  (0, 4316)\t0.0013073145454501958\n",
            "  (0, 4232)\t0.0013073145454501958\n",
            "  (0, 3409)\t0.0013073145454501958\n",
            "  (0, 3367)\t0.0013073145454501958\n",
            "  (0, 665)\t0.0013073145454501958\n",
            "  (0, 167)\t0.0013073145454501958\n",
            "  (0, 10145)\t0.0018344756791523601\n",
            "  (0, 7925)\t0.0018344756791523601\n",
            "  (0, 7668)\t0.0018344756791523601\n",
            "  (0, 6543)\t-0.0018344756791523601\n",
            "  (0, 4331)\t-0.0018344756791523601\n",
            "  (0, 4317)\t-0.0018344756791523601\n",
            "  (0, 3456)\t0.0018344756791523601\n",
            "  (0, 2167)\t0.0018344756791523601\n",
            "  :\t:\n",
            "  (0, 1339)\t0.05706025572643857\n",
            "  (0, 10443)\t-0.0012846990107683138\n",
            "  (0, 10432)\t0.0012846990107683138\n",
            "  (0, 10130)\t0.0012846990107683138\n",
            "  (0, 9261)\t-0.0012846990107683138\n",
            "  (0, 9228)\t-0.0012846990107683138\n",
            "  (0, 8244)\t0.0012846990107683138\n",
            "  (0, 7959)\t0.0012846990107683138\n",
            "  (0, 7274)\t0.0012846990107683138\n",
            "  (0, 5892)\t0.0012846990107683138\n",
            "  (0, 2069)\t0.0012846990107683138\n",
            "  (0, 1934)\t0.0012846990107683138\n",
            "  (0, 326)\t0.0012846990107683138\n",
            "  (0, 10088)\t-0.003019787752811997\n",
            "  (0, 9049)\t0.003019787752811997\n",
            "  (0, 8792)\t-0.003019787752811997\n",
            "  (0, 8266)\t0.003019787752811997\n",
            "  (0, 7103)\t0.003019787752811997\n",
            "  (0, 5145)\t0.003019787752811997\n",
            "  (0, 4297)\t-0.003019787752811997\n",
            "  (0, 4079)\t0.003019787752811997\n",
            "  (0, 3496)\t-0.003019787752811997\n",
            "  (0, 2289)\t-0.003019787752811997\n",
            "  (0, 792)\t-0.003019787752811997\n",
            "  (0, 341)\t-0.003019787752811997\n"
          ]
        }
      ]
    },
    {
      "cell_type": "code",
      "source": [
        "import sklearn.metrics\n",
        "\n",
        "#data = M_data_normalized_RC.transpose()\n",
        "#ind_col = [i for i in range(20000)]  #398351 \n",
        "#data0 = S_data[ind_col,:]\n",
        "res = sklearn.metrics.pairwise_distances(S_data, S_data, metric = 'euclidean')\n",
        "res"
      ],
      "metadata": {
        "id": "9S__f08uMBOB"
      },
      "execution_count": null,
      "outputs": []
    },
    {
      "cell_type": "code",
      "source": [
        "from scipy import sparse\n",
        "import numpy as np\n",
        "\n",
        "temp_data = np.load('/content/drive/MyDrive/data_normalized_RC.npz')\n",
        "RC = sparse.csr_matrix((temp_data['data'], temp_data['indices'], temp_data['indptr']), shape = temp_data['shape']) "
      ],
      "metadata": {
        "id": "EbUIacrH8_rN"
      },
      "execution_count": 1,
      "outputs": []
    },
    {
      "cell_type": "code",
      "source": [
        "from sklearn import *\n",
        "from sklearn.decomposition import PCA as RandomizedPCA\n",
        "pca_data = RandomizedPCA(n_components=min_dim, svd_solver='randomized', whiten=True).fit(RC.transpose())\n"
      ],
      "metadata": {
        "id": "Bh_pJ0LAEFQG",
        "outputId": "7e00cb9c-625f-47df-f683-f4ceb0ad71dd",
        "colab": {
          "base_uri": "https://localhost:8080/",
          "height": 358
        }
      },
      "execution_count": 9,
      "outputs": [
        {
          "output_type": "error",
          "ename": "TypeError",
          "evalue": "ignored",
          "traceback": [
            "\u001b[0;31m---------------------------------------------------------------------------\u001b[0m",
            "\u001b[0;31mTypeError\u001b[0m                                 Traceback (most recent call last)",
            "\u001b[0;32m<ipython-input-9-8999033aaf68>\u001b[0m in \u001b[0;36m<module>\u001b[0;34m\u001b[0m\n\u001b[1;32m      1\u001b[0m \u001b[0;32mfrom\u001b[0m \u001b[0msklearn\u001b[0m \u001b[0;32mimport\u001b[0m \u001b[0;34m*\u001b[0m\u001b[0;34m\u001b[0m\u001b[0;34m\u001b[0m\u001b[0m\n\u001b[1;32m      2\u001b[0m \u001b[0;32mfrom\u001b[0m \u001b[0msklearn\u001b[0m\u001b[0;34m.\u001b[0m\u001b[0mdecomposition\u001b[0m \u001b[0;32mimport\u001b[0m \u001b[0mPCA\u001b[0m \u001b[0;32mas\u001b[0m \u001b[0mRandomizedPCA\u001b[0m\u001b[0;34m\u001b[0m\u001b[0;34m\u001b[0m\u001b[0m\n\u001b[0;32m----> 3\u001b[0;31m \u001b[0mpca_data\u001b[0m \u001b[0;34m=\u001b[0m \u001b[0mRandomizedPCA\u001b[0m\u001b[0;34m(\u001b[0m\u001b[0mn_components\u001b[0m\u001b[0;34m=\u001b[0m\u001b[0mmin_dim\u001b[0m\u001b[0;34m,\u001b[0m \u001b[0msvd_solver\u001b[0m\u001b[0;34m=\u001b[0m\u001b[0;34m'randomized'\u001b[0m\u001b[0;34m,\u001b[0m \u001b[0mwhiten\u001b[0m\u001b[0;34m=\u001b[0m\u001b[0;32mTrue\u001b[0m\u001b[0;34m)\u001b[0m\u001b[0;34m.\u001b[0m\u001b[0mfit\u001b[0m\u001b[0;34m(\u001b[0m\u001b[0mRC\u001b[0m\u001b[0;34m.\u001b[0m\u001b[0mtranspose\u001b[0m\u001b[0;34m(\u001b[0m\u001b[0;34m)\u001b[0m\u001b[0;34m)\u001b[0m\u001b[0;34m\u001b[0m\u001b[0;34m\u001b[0m\u001b[0m\n\u001b[0m",
            "\u001b[0;32m/usr/local/lib/python3.8/dist-packages/sklearn/decomposition/_pca.py\u001b[0m in \u001b[0;36mfit\u001b[0;34m(self, X, y)\u001b[0m\n\u001b[1;32m    380\u001b[0m             \u001b[0mReturns\u001b[0m \u001b[0mthe\u001b[0m \u001b[0minstance\u001b[0m \u001b[0mitself\u001b[0m\u001b[0;34m.\u001b[0m\u001b[0;34m\u001b[0m\u001b[0;34m\u001b[0m\u001b[0m\n\u001b[1;32m    381\u001b[0m         \"\"\"\n\u001b[0;32m--> 382\u001b[0;31m         \u001b[0mself\u001b[0m\u001b[0;34m.\u001b[0m\u001b[0m_fit\u001b[0m\u001b[0;34m(\u001b[0m\u001b[0mX\u001b[0m\u001b[0;34m)\u001b[0m\u001b[0;34m\u001b[0m\u001b[0;34m\u001b[0m\u001b[0m\n\u001b[0m\u001b[1;32m    383\u001b[0m         \u001b[0;32mreturn\u001b[0m \u001b[0mself\u001b[0m\u001b[0;34m\u001b[0m\u001b[0;34m\u001b[0m\u001b[0m\n\u001b[1;32m    384\u001b[0m \u001b[0;34m\u001b[0m\u001b[0m\n",
            "\u001b[0;32m/usr/local/lib/python3.8/dist-packages/sklearn/decomposition/_pca.py\u001b[0m in \u001b[0;36m_fit\u001b[0;34m(self, X)\u001b[0m\n\u001b[1;32m    423\u001b[0m         \u001b[0;31m# This is more informative than the generic one raised by check_array.\u001b[0m\u001b[0;34m\u001b[0m\u001b[0;34m\u001b[0m\u001b[0;34m\u001b[0m\u001b[0m\n\u001b[1;32m    424\u001b[0m         \u001b[0;32mif\u001b[0m \u001b[0missparse\u001b[0m\u001b[0;34m(\u001b[0m\u001b[0mX\u001b[0m\u001b[0;34m)\u001b[0m\u001b[0;34m:\u001b[0m\u001b[0;34m\u001b[0m\u001b[0;34m\u001b[0m\u001b[0m\n\u001b[0;32m--> 425\u001b[0;31m             raise TypeError(\n\u001b[0m\u001b[1;32m    426\u001b[0m                 \u001b[0;34m\"PCA does not support sparse input. See \"\u001b[0m\u001b[0;34m\u001b[0m\u001b[0;34m\u001b[0m\u001b[0m\n\u001b[1;32m    427\u001b[0m                 \u001b[0;34m\"TruncatedSVD for a possible alternative.\"\u001b[0m\u001b[0;34m\u001b[0m\u001b[0;34m\u001b[0m\u001b[0m\n",
            "\u001b[0;31mTypeError\u001b[0m: PCA does not support sparse input. See TruncatedSVD for a possible alternative."
          ]
        }
      ]
    },
    {
      "cell_type": "code",
      "source": [
        "from sklearn.decomposition import TruncatedSVD\n",
        "from scipy import sparse as sp\n",
        "\n",
        "clf = TruncatedSVD(17026)\n",
        "Xpca = clf.fit_transform(RC.transpose())"
      ],
      "metadata": {
        "id": "iHGXbHjLFjfS"
      },
      "execution_count": null,
      "outputs": []
    },
    {
      "cell_type": "code",
      "source": [
        "from sklearn.decomposition import SparsePCA\n",
        " \n",
        "transformer = SparsePCA(n_components=17026, random_state=0)\n",
        "transformer.fit((RC.transpose()).toarray())\n",
        "\n",
        "X_transformed = transformer.transform(RC.transpose())\n",
        "X_transformed.shape\n"
      ],
      "metadata": {
        "id": "M6pmEi6ey-CY"
      },
      "execution_count": null,
      "outputs": []
    },
    {
      "cell_type": "code",
      "source": [
        "threshold = 0.05\n",
        "res[res>threshold] = 0\n",
        "above_threshold = res >= v[\"threshold\"]\n"
      ],
      "metadata": {
        "id": "72MRWBqJ5fxM"
      },
      "execution_count": null,
      "outputs": []
    }
  ]
}