{
  "nbformat": 4,
  "nbformat_minor": 0,
  "metadata": {
    "colab": {
      "provenance": [],
      "authorship_tag": "ABX9TyNVFjQnePG3UWY+7lwqpYMm",
      "include_colab_link": true
    },
    "kernelspec": {
      "name": "python3",
      "display_name": "Python 3"
    },
    "language_info": {
      "name": "python"
    }
  },
  "cells": [
    {
      "cell_type": "markdown",
      "metadata": {
        "id": "view-in-github",
        "colab_type": "text"
      },
      "source": [
        "<a href=\"https://colab.research.google.com/github/ataei0/DANA/blob/master/pre3.ipynb\" target=\"_parent\"><img src=\"https://colab.research.google.com/assets/colab-badge.svg\" alt=\"Open In Colab\"/></a>"
      ]
    },
    {
      "cell_type": "code",
      "execution_count": 1,
      "metadata": {
        "colab": {
          "base_uri": "https://localhost:8080/"
        },
        "id": "cLGyZ3KKti7V",
        "outputId": "563696b6-1856-45b9-fa30-f7e630776c85"
      },
      "outputs": [
        {
          "output_type": "stream",
          "name": "stdout",
          "text": [
            "Mounted at /content/drive\n"
          ]
        }
      ],
      "source": [
        "\n",
        "from google.colab import drive\n",
        "drive.mount('/content/drive')"
      ]
    },
    {
      "cell_type": "code",
      "source": [
        "from numpy import load\n",
        "\n",
        "Data = load('/content/drive/MyDrive/Matrix Data/sparse_matrix.npz')\n",
        "lst = Data.files\n",
        "for item in lst:\n",
        "    print(item)\n",
        "    print(Data[item])"
      ],
      "metadata": {
        "colab": {
          "base_uri": "https://localhost:8080/"
        },
        "id": "BkWjHUdKtu-k",
        "outputId": "aae96c96-6dc1-4519-a709-43306404ac7c"
      },
      "execution_count": 1,
      "outputs": [
        {
          "output_type": "stream",
          "name": "stdout",
          "text": [
            "indices\n",
            "[ 11103  31853  31854 ... 276253 368921 384959]\n",
            "indptr\n",
            "[        0       192       228 ... 113376415 113376545 113376558]\n",
            "format\n",
            "b'csr'\n",
            "shape\n",
            "[933095 398351]\n",
            "data\n",
            "[ 1.75086936 12.19738324 12.20355765 ... 18.7720261  34.64588635\n",
            " 21.07869619]\n"
          ]
        }
      ]
    },
    {
      "cell_type": "code",
      "source": [
        "\n",
        "from scipy import sparse\n",
        "import numpy as np\n",
        "\n",
        "temp_data = np.load('/content/drive/MyDrive/Matrix Data/sparse_matrix.npz')\n",
        "M_data = sparse.csr_matrix((temp_data['data'], temp_data['indices'], temp_data['indptr']), shape = temp_data['shape']) "
      ],
      "metadata": {
        "id": "lYaPenFYt7L6"
      },
      "execution_count": 1,
      "outputs": []
    },
    {
      "cell_type": "code",
      "source": [
        "!pip install sklearn"
      ],
      "metadata": {
        "colab": {
          "base_uri": "https://localhost:8080/"
        },
        "id": "7iKruxCUuEyo",
        "outputId": "1e0ce98b-1b56-4eb4-ed5d-216e380f0ff1"
      },
      "execution_count": 2,
      "outputs": [
        {
          "output_type": "stream",
          "name": "stdout",
          "text": [
            "Looking in indexes: https://pypi.org/simple, https://us-python.pkg.dev/colab-wheels/public/simple/\n",
            "Requirement already satisfied: sklearn in /usr/local/lib/python3.8/dist-packages (0.0.post1)\n"
          ]
        }
      ]
    },
    {
      "cell_type": "code",
      "source": [
        "\n",
        "from sklearn import *\n",
        "from sklearn.preprocessing import normalize\n",
        "#normalizing data over columns:\n",
        "M_data_normalized_C = normalize(M_data, norm='l1', axis=0)\n",
        "#normalizing data over rows:\n",
        "M_data_normalized_R = normalize(M_data, norm='l1', axis=1)"
      ],
      "metadata": {
        "id": "5Jw7GrSJuISG"
      },
      "execution_count": 2,
      "outputs": []
    },
    {
      "cell_type": "code",
      "source": [
        "\n",
        "from scipy.sparse import csr_matrix\n",
        "print(csr_matrix(M_data_normalized_C.getcol(76454)))"
      ],
      "metadata": {
        "colab": {
          "base_uri": "https://localhost:8080/"
        },
        "id": "kVqO8P_YuN5C",
        "outputId": "80440399-cbbe-41f8-b46b-5904d43ca21d"
      },
      "execution_count": 4,
      "outputs": [
        {
          "output_type": "stream",
          "name": "stdout",
          "text": [
            "  (14934, 0)\t0.03515021992374439\n",
            "  (70153, 0)\t0.021820576828983265\n",
            "  (87521, 0)\t0.010194105201996652\n",
            "  (178045, 0)\t0.10129099121922339\n",
            "  (191205, 0)\t0.003980258091772798\n",
            "  (199286, 0)\t0.018018729166719993\n",
            "  (272219, 0)\t0.020423018309388842\n",
            "  (322829, 0)\t0.33682884892381654\n",
            "  (337739, 0)\t0.04646005398316955\n",
            "  (347354, 0)\t0.012683272279241707\n",
            "  (474496, 0)\t0.3181580240625511\n",
            "  (475116, 0)\t0.007183232565226506\n",
            "  (594389, 0)\t0.04254290903916482\n",
            "  (724324, 0)\t0.014715637516529496\n",
            "  (845638, 0)\t0.010550122888470913\n"
          ]
        }
      ]
    },
    {
      "cell_type": "code",
      "source": [
        "#normalizing over both columns and rows:\n",
        "temp = M_data_normalized_C.multiply(M_data_normalized_R)\n",
        "M_data_normalized_RC = temp.sqrt()"
      ],
      "metadata": {
        "id": "-HMc_8jhuShv"
      },
      "execution_count": 3,
      "outputs": []
    },
    {
      "cell_type": "code",
      "source": [
        "import sklearn.metrics\n",
        "\n",
        "data = M_data_normalized_RC.transpose()\n",
        "ind_col = [i for i in range(20000)]  #398351 \n",
        "data0 = data[ind_col,:]\n",
        "res = sklearn.metrics.pairwise_distances(data0, data0, metric = 'euclidean')\n",
        "res\n",
        "# taken time for 10000 : 2s\n",
        "# taken time for 20000 : 6s\n",
        "# RAM limitations for  30k "
      ],
      "metadata": {
        "id": "qKMaptLOunci"
      },
      "execution_count": null,
      "outputs": []
    }
  ]
}